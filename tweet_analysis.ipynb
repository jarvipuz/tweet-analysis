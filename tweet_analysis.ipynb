{
 "cells": [
  {
   "cell_type": "markdown",
   "metadata": {
    "id": "_nx6ZMyh0sWn"
   },
   "source": [
    "# Load all the necessary packages"
   ]
  },
  {
   "cell_type": "code",
   "execution_count": 1,
   "metadata": {
    "colab": {
     "base_uri": "https://localhost:8080/",
     "height": 241
    },
    "id": "bHETB9kRF876",
    "outputId": "a8c97de3-851f-401e-b1eb-f04cb0fc6ed9"
   },
   "outputs": [
    {
     "name": "stdout",
     "output_type": "stream",
     "text": [
      "[nltk_data] Downloading package stopwords to /root/nltk_data...\n",
      "[nltk_data]   Package stopwords is already up-to-date!\n",
      "[nltk_data] Downloading package wordnet to /root/nltk_data...\n",
      "[nltk_data]   Package wordnet is already up-to-date!\n",
      "[nltk_data] Downloading package averaged_perceptron_tagger to\n",
      "[nltk_data]     /root/nltk_data...\n",
      "[nltk_data]   Package averaged_perceptron_tagger is already up-to-\n",
      "[nltk_data]       date!\n",
      "[nltk_data] Downloading package vader_lexicon to /root/nltk_data...\n",
      "[nltk_data]   Package vader_lexicon is already up-to-date!\n"
     ]
    },
    {
     "name": "stderr",
     "output_type": "stream",
     "text": [
      "/usr/local/lib/python3.6/dist-packages/nltk/twitter/__init__.py:20: UserWarning: The twython library has not been installed. Some functionality from the twitter package will not be available.\n",
      "  warnings.warn(\"The twython library has not been installed. \"\n"
     ]
    }
   ],
   "source": [
    "import pandas as pd\n",
    "import numpy as np\n",
    "import matplotlib.pyplot as plt\n",
    "import seaborn as sns\n",
    "\n",
    "import re\n",
    "from collections import defaultdict\n",
    "import json\n",
    "from datetime import datetime\n",
    "import tweepy\n",
    "\n",
    "import nltk\n",
    "from nltk import pos_tag\n",
    "from nltk.corpus import wordnet as wn\n",
    "from nltk.stem import WordNetLemmatizer\n",
    "from nltk.corpus import stopwords\n",
    "from nltk.sentiment.vader import SentimentIntensityAnalyzer\n",
    "\n",
    "from sklearn.feature_extraction.text import CountVectorizer\n",
    "\n",
    "nltk.download('stopwords')\n",
    "nltk.download('wordnet')\n",
    "nltk.download('averaged_perceptron_tagger')\n",
    "nltk.download('vader_lexicon')\n",
    "\n",
    "%matplotlib inline"
   ]
  },
  {
   "cell_type": "markdown",
   "metadata": {
    "id": "-0l0cKpN01Pv"
   },
   "source": [
    "# Set the credentials to authenticate access to Twitter"
   ]
  },
  {
   "cell_type": "code",
   "execution_count": 2,
   "metadata": {
    "id": "I7lgz7M9H0a3"
   },
   "outputs": [],
   "source": [
    "consumer_key = 'xxxx'\n",
    "consumer_key_secret = 'xxxx'\n",
    "access_token = 'xxxx'\n",
    "access_token_secret = 'xxxx'\n",
    "\n",
    "auth = tweepy.OAuthHandler(consumer_key, consumer_key_secret)\n",
    "\n",
    "auth.set_access_token(access_token, access_token_secret)\n",
    "\n",
    "api = tweepy.API(auth)"
   ]
  },
  {
   "cell_type": "markdown",
   "metadata": {
    "id": "Zh0-qKal1Ivm"
   },
   "source": [
    "# Define the function to extract tweets and select only the relevant columns"
   ]
  },
  {
   "cell_type": "code",
   "execution_count": 3,
   "metadata": {
    "id": "v2I_0LStGDUY"
   },
   "outputs": [],
   "source": [
    "def extract_tweets(screen_name, num_tweets):\n",
    "  # Extract the tweets using the extended mode and specified number of tweets\n",
    "  tweets = api.user_timeline(screen_name=screen_name,\n",
    "                            tweet_mode='extended',\n",
    "                            count=num_tweets)\n",
    "\n",
    "  list_of_dicts = []\n",
    "  tweet_list = []\n",
    "  for json_tweet in tweets:\n",
    "    # Save the json tweets in a list\n",
    "    tweet_dict = json_tweet._json\n",
    "    list_of_dicts.append(tweet_dict)\n",
    "\n",
    "    # Check if the tweet contains photos (note that videos are not included)\n",
    "    with_photo = False\n",
    "    try:\n",
    "        for medium in tweet_dict['extended_entities']['media']:\n",
    "            if medium['type'] == 'photo':\n",
    "                with_photo = True\n",
    "                break\n",
    "    except:\n",
    "        pass\n",
    "\n",
    "    # Create a list with the relevant columns only\n",
    "    tweet_list.append({'text': str(tweet_dict['full_text']),\n",
    "                       'created_at': datetime.strftime(datetime.strptime(tweet_dict['created_at'],'%a %b %d %H:%M:%S +0000 %Y'), '%Y-%m-%d %H:%M:%S'),\n",
    "                       'count_hashtags': len(tweet_dict['entities']['hashtags']),\n",
    "                       'user': tweet_dict['user']['screen_name'],\n",
    "                       'with_link': len(tweet_dict['entities']['urls']) > 0,\n",
    "                       'with_photo': with_photo,\n",
    "                      })\n",
    "  \n",
    "  # Create the data frame containing the tweets\n",
    "  df = pd.DataFrame(tweet_list)\n",
    "  df['created_at'] = pd.to_datetime(df['created_at'])\n",
    "  # Extract the date of the tweet\n",
    "  df['date'] = [dt.date().strftime('%d-%m-%Y') for dt in df['created_at']]\n",
    "  # Extract the hour the tweet was made\n",
    "  df['hour'] = [dt.time().strftime('%H:00') for dt in df['created_at']]\n",
    "  # Create a column that checks if the tweet contains links or photos\n",
    "  df['with_link_or_photo'] = df['with_link'] | df['with_photo']\n",
    "\n",
    "  return list_of_dicts, df"
   ]
  },
  {
   "cell_type": "markdown",
   "metadata": {
    "id": "_ekTpINq5HVR"
   },
   "source": [
    "Get the tweets of Alexandria Ocasio-Cortez (American politician) and Kim Kardashian (celebrity) and combine them in one data frame."
   ]
  },
  {
   "cell_type": "code",
   "execution_count": 4,
   "metadata": {
    "id": "kLE8GkoCG_oS"
   },
   "outputs": [],
   "source": [
    "max_tweets = 200\n",
    "user_1 = 'AOC'\n",
    "user_2 = 'KimKardashian'\n",
    "\n",
    "list_aoc, df_aoc = extract_tweets(user_1, max_tweets)\n",
    "list_kkw, df_kkw = extract_tweets(user_2, max_tweets)\n",
    "df = pd.concat([df_aoc, df_kkw], ignore_index=True)"
   ]
  },
  {
   "cell_type": "markdown",
   "metadata": {
    "id": "bZhxL9XD53xx"
   },
   "source": [
    "Save the raw tweets as json file and tweets with selected columns as csv files."
   ]
  },
  {
   "cell_type": "code",
   "execution_count": 5,
   "metadata": {
    "id": "o55cTg6WxBoj"
   },
   "outputs": [],
   "source": [
    "with open('tweet_aoc.json', mode = 'w') as file:\n",
    "  file.write(json.dumps(list_aoc, indent=4))\n",
    "\n",
    "with open('tweet_kkw.json', mode = 'w') as file:\n",
    "  file.write(json.dumps(list_kkw, indent=4))\n",
    "\n",
    "df_aoc.to_csv('tweet_aoc.csv', index=False)\n",
    "df_kkw.to_csv('tweet_kkw.csv', index=False)"
   ]
  },
  {
   "cell_type": "markdown",
   "metadata": {
    "id": "KgJyay19-YVT"
   },
   "source": [
    "# **Question 1**: Posting Times of the Tweets for the Two Users"
   ]
  },
  {
   "cell_type": "code",
   "execution_count": 6,
   "metadata": {
    "colab": {
     "base_uri": "https://localhost:8080/"
    },
    "id": "KSxbqC4hHsxF",
    "outputId": "8335c0b6-9bba-4712-96ec-098344103cf0"
   },
   "outputs": [
    {
     "data": {
      "image/png": "[encoded data removed]",
      "text/plain": [
       "<Figure size 1080x504 with 1 Axes>"
      ]
     },
     "metadata": {
      "needs_background": "light",
      "tags": []
     },
     "output_type": "display_data"
    }
   ],
   "source": [
    "fig, ax = plt.subplots(figsize=(15, 7))\n",
    "\n",
    "df_time = df.groupby(['user', 'hour']).count().reset_index()[['user', 'hour', 'text']]\n",
    "df_time['tweet_pct'] = df_time['text'] / df_time.groupby('user')['text'].transform('sum')\n",
    "df_time = df_time.sort_values('hour').reset_index()\n",
    "\n",
    "ax = sns.lineplot(data=df_time, x='hour', y='tweet_pct', hue='user', marker='o', palette=['mediumpurple', 'tan'])\n",
    "_ = ax.set(xlabel='Hour of the Day', ylabel='Proportion of Tweets', title='Percentage of Tweets by Hour')"
   ]
  },
  {
   "cell_type": "markdown",
   "metadata": {
    "id": "V5TEqjn7-j18"
   },
   "source": [
    "Kim Kardashian posts tweets at 00:00 (EST) while tweets of Alexandria Ocasio-Cortez is evenly spread throughout the day. It is worth noting that there aren't any Twitter activities for the two users between 6:00 to 7:00 and 8:00 to 12:00 (EST) which probably corresponds to their sleeping time."
   ]
  },
  {
   "cell_type": "markdown",
   "metadata": {
    "id": "Up2s2Rw_AbqY"
   },
   "source": [
    "# **Question 2**: Proportions of Tweets That Contain Pictures or Links"
   ]
  },
  {
   "cell_type": "code",
   "execution_count": 7,
   "metadata": {
    "colab": {
     "base_uri": "https://localhost:8080/"
    },
    "id": "tzDlxs1Wkn9A",
    "outputId": "6a955d76-e0eb-42c1-8f87-fad963ecd249"
   },
   "outputs": [
    {
     "data": {
      "image/png": "[encoded data removed]",
      "text/plain": [
       "<Figure size 720x504 with 1 Axes>"
      ]
     },
     "metadata": {
      "needs_background": "light",
      "tags": []
     },
     "output_type": "display_data"
    }
   ],
   "source": [
    "df_ct = pd.crosstab(df.user, df.with_link_or_photo)\n",
    "df_ct.plot.bar(stacked=True, color=['cornflowerblue', 'moccasin'], figsize=(10, 7))\n",
    "plt.xticks(rotation=0)\n",
    "_ = plt.legend(['Without Links/Photos', 'With Links/Photos'], bbox_to_anchor=(1, 0.5))\n"
   ]
  },
  {
   "cell_type": "markdown",
   "metadata": {
    "id": "aHSJNASqI84C"
   },
   "source": [
    "We can see from the bar plot that more than half of Kim Kardashian's posts or retweets contain links or pictures. Alexandria Ocasio-Cortez's tweets mostly contain texts only."
   ]
  },
  {
   "cell_type": "markdown",
   "metadata": {
    "id": "fSfYr24EE5OQ"
   },
   "source": [
    "# **Question 3**: Distribution of Hashtags in Tweets"
   ]
  },
  {
   "cell_type": "code",
   "execution_count": 8,
   "metadata": {
    "colab": {
     "base_uri": "https://localhost:8080/",
     "height": 386
    },
    "id": "r-I2qmWNkrH1",
    "outputId": "9672d6eb-467a-466e-8bf4-5b8f5104d10b"
   },
   "outputs": [
    {
     "data": {
      "text/plain": [
       "<seaborn.axisgrid.FacetGrid at 0x7f8be9bd2a20>"
      ]
     },
     "execution_count": 8,
     "metadata": {
      "tags": []
     },
     "output_type": "execute_result"
    },
    {
     "data": {
      "image/png": "[encoded data removed]",
      "text/plain": [
       "<Figure size 471x360 with 1 Axes>"
      ]
     },
     "metadata": {
      "needs_background": "light",
      "tags": []
     },
     "output_type": "display_data"
    }
   ],
   "source": [
    "sns.displot(df, x='count_hashtags', hue='user', discrete=True)"
   ]
  },
  {
   "cell_type": "markdown",
   "metadata": {
    "id": "9KPtVV-7Osgs"
   },
   "source": [
    "Kim Kardashian includes more hashtags on her tweets as compared to Alexandria Ocasio-Cortez."
   ]
  },
  {
   "cell_type": "markdown",
   "metadata": {
    "id": "_IMGa6kRJTEM"
   },
   "source": [
    "# Create functions to clean the tweets"
   ]
  },
  {
   "cell_type": "code",
   "execution_count": 9,
   "metadata": {
    "id": "WSYWlSrgkzOV"
   },
   "outputs": [],
   "source": [
    "def remove_pattern(input_txt, pattern):\n",
    "  # Create function to remove a pattern using regex\n",
    "  r = re.findall (pattern, input_txt)\n",
    "  for i in r:\n",
    "    input_txt = re.sub(i , '', input_txt)\n",
    "  return input_txt\n",
    "\n",
    "# Define tag maps for parts-of-speech tagging\n",
    "tag_map = defaultdict (lambda : wn.NOUN)\n",
    "tag_map['J'] = wn.ADJ\n",
    "tag_map['V'] = wn.VERB\n",
    "tag_map['R'] = wn.ADV\n",
    "\n",
    "def clean_tweets(df, user):\n",
    "  corpus = []\n",
    "  df = df[df.user==user].reset_index(drop=True)\n",
    "  for i in range(0, len(df)):\n",
    "    # Remove links from the tweet text\n",
    "    tweet = re.sub(r'https?:\\/\\/\\S*', '', df['text'][i], flags = re.MULTILINE)\n",
    "    # Remove all non-alphanumeric strings in the text\n",
    "    tweet = re.sub ('[^a-zA-Z0-9]', ' ', tweet)\n",
    "    word_lemmatized = WordNetLemmatizer()\n",
    "    # Standardise the text by converting them to lower-case\n",
    "    tweet = tweet.lower()\n",
    "    # Remove the retweet (RT) tags\n",
    "    tweet = re.sub ('rt', '', tweet)\n",
    "    # Tokenise the text\n",
    "    tweet = tweet.split()\n",
    "    # Lemmatise the words and remove stop words\n",
    "    tweet = [word_lemmatized.lemmatize(word, tag_map[tag[0]]) for word, tag in pos_tag(tweet)\n",
    "              if not word in set(stopwords.words('english'))]\n",
    "    if tweet == []:\n",
    "      corpus.append('')\n",
    "    else:\n",
    "      tweet = ' '.join(tweet)\n",
    "      corpus.append(tweet)\n",
    "  return corpus"
   ]
  },
  {
   "cell_type": "code",
   "execution_count": 10,
   "metadata": {
    "id": "e9mkR5zxlImh"
   },
   "outputs": [],
   "source": [
    "# Remove mentions in the tweet text\n",
    "df['text'] = np.vectorize(remove_pattern)(df['text'], '@[\\w]*')\n",
    "\n",
    "# Create the corpus for the tweets obtained for AOC and Kim\n",
    "corpus_aoc = clean_tweets(df, user_1)\n",
    "corpus_kkw = clean_tweets(df, user_2)"
   ]
  },
  {
   "cell_type": "markdown",
   "metadata": {
    "id": "eMHAEVhcKrWs"
   },
   "source": [
    "# Create function to create word frequencies"
   ]
  },
  {
   "cell_type": "code",
   "execution_count": 11,
   "metadata": {
    "id": "HmDxscZNl71c"
   },
   "outputs": [],
   "source": [
    "def count_words(df, screen_name, name):\n",
    "  corpus = clean_tweets(df, screen_name)\n",
    "  cv = CountVectorizer()\n",
    "  X = cv.fit_transform(corpus)\n",
    "  vocab = list(cv.get_feature_names())\n",
    "  counts = X.sum(axis=0).A1\n",
    "  df_cv = pd.DataFrame({'words':vocab, name:counts})\n",
    "  return df_cv"
   ]
  },
  {
   "cell_type": "code",
   "execution_count": 12,
   "metadata": {
    "id": "Qj7ILJw8nSs8"
   },
   "outputs": [],
   "source": [
    "# Create word frequencies for the two users\n",
    "cv_aoc = count_words(df, user_1, 'AOC')\n",
    "cv_kkw = count_words(df, user_2, 'Kim_Kardashian')\n",
    "\n",
    "cv = cv_aoc.merge(cv_kkw, how='outer', on='words').fillna(0)\n",
    "\n",
    "# Calculate the log odds to get the top word that are mostly associated with each user\n",
    "cv['log_odds'] = np.log2(((cv.AOC + 1)/(sum(cv.AOC + cv.Kim_Kardashian) + 1)) / ((cv.Kim_Kardashian + 1)/(sum(cv.AOC + cv.Kim_Kardashian) + 1)))\n",
    "cv['log_pos'] = cv['log_odds'] > 0"
   ]
  },
  {
   "cell_type": "markdown",
   "metadata": {
    "id": "zz7ECzAlLqvm"
   },
   "source": [
    "Most positive log odds are highly associated with Alexandria Ocasio-Cortez and the most negative log odds are highly associated with Kim Kardashian."
   ]
  },
  {
   "cell_type": "code",
   "execution_count": 13,
   "metadata": {
    "id": "vnwAO8Wont30"
   },
   "outputs": [],
   "source": [
    "n = 20\n",
    "max_idx = cv['log_odds'].nlargest(n).reset_index()['index'].values\n",
    "min_idx = cv['log_odds'].nsmallest(n).reset_index()['index'].values\n",
    "\n",
    "cv_top20 = pd.concat([cv.iloc[max_idx], cv.iloc[min_idx]])\n",
    "cv_top20 = cv_top20.sort_values('log_odds', ascending=False).reset_index()"
   ]
  },
  {
   "cell_type": "markdown",
   "metadata": {
    "id": "UIvgIBqTMGPI"
   },
   "source": [
    "# **Question 4**: List the 20 Words Most Strongly Associated with Each of the Two Users"
   ]
  },
  {
   "cell_type": "code",
   "execution_count": 14,
   "metadata": {
    "colab": {
     "base_uri": "https://localhost:8080/",
     "height": 799
    },
    "id": "vNuJAoNDMTRM",
    "outputId": "63b2ef80-0e49-4e8b-fb3d-fd03c72e2645"
   },
   "outputs": [
    {
     "name": "stdout",
     "output_type": "stream",
     "text": [
      "The top 20 words associated to Alexandria Ocasio-Cortez: \n",
      "            words  log_odds\n",
      "1262       trump  3.906891\n",
      "226      climate  3.807355\n",
      "304         deal  3.700440\n",
      "524          gop  3.700440\n",
      "781         must  3.700440\n",
      "206       change  3.584963\n",
      "873       people  3.584963\n",
      "517         give  3.459432\n",
      "533        green  3.459432\n",
      "868          pay  3.459432\n",
      "1158       state  3.459432\n",
      "972     question  3.321928\n",
      "1055       right  3.321928\n",
      "149        black  3.169925\n",
      "281        covid  3.169925\n",
      "130           bc  3.000000\n",
      "417         even  3.000000\n",
      "1030         rep  3.000000\n",
      "1037  republican  3.000000\n",
      "1094      senate  3.000000\n",
      "\n",
      "\n",
      "The top 20 words associated to Kim Kardashian: \n",
      "             words  log_odds\n",
      "1547        kuwtk -5.209453\n",
      "1649         shop -4.000000\n",
      "1671        style -3.459432\n",
      "1706       waffle -3.459432\n",
      "1707         wait -3.459432\n",
      "1438   collection -3.321928\n",
      "1444       cotton -3.321928\n",
      "1471      episode -3.321928\n",
      "544           guy -3.000000\n",
      "1376           4x -3.000000\n",
      "1411         best -3.000000\n",
      "1478  exclusively -3.000000\n",
      "1539          kim -3.000000\n",
      "1688     thursday -3.000000\n",
      "1469        enjoy -2.807355\n",
      "1524    instagram -2.807355\n",
      "1655        sizes -2.807355\n",
      "709          love -2.700440\n",
      "1379           7c -2.584963\n",
      "1397      armenia -2.584963\n"
     ]
    }
   ],
   "source": [
    "print('The top 20 words associated to Alexandria Ocasio-Cortez: \\n', cv.iloc[max_idx][['words', 'log_odds']])\n",
    "print('\\n')\n",
    "print('The top 20 words associated to Kim Kardashian: \\n', cv.iloc[min_idx][['words', 'log_odds']])"
   ]
  },
  {
   "cell_type": "code",
   "execution_count": 15,
   "metadata": {
    "colab": {
     "base_uri": "https://localhost:8080/",
     "height": 606
    },
    "id": "ZesWXay7n115",
    "outputId": "0b236155-be3b-4f8e-89eb-906c742369e2"
   },
   "outputs": [
    {
     "data": {
      "image/png": "[encoded data removed]",
      "text/plain": [
       "<Figure size 1296x720 with 1 Axes>"
      ]
     },
     "metadata": {
      "needs_background": "light",
      "tags": []
     },
     "output_type": "display_data"
    }
   ],
   "source": [
    "f, ax = plt.subplots(figsize=(18, 10))\n",
    "_ = sns.barplot(x=\"log_odds\", y=\"words\", data=cv_top20, hue='log_pos')"
   ]
  },
  {
   "cell_type": "markdown",
   "metadata": {
    "id": "RWnqGBj9NY6Y"
   },
   "source": [
    "# **Question 5**: Calculate the Average 'Compound' Sentiment for All Their Tweets"
   ]
  },
  {
   "cell_type": "code",
   "execution_count": 16,
   "metadata": {
    "id": "DEawUlkTok_g"
   },
   "outputs": [],
   "source": [
    "sid = SentimentIntensityAnalyzer()\n",
    "df['polarity'] = [sid.polarity_scores(tweet) for tweet in df['text']]\n",
    "df['compound_score'] = [score['compound'] for score in df['polarity']]"
   ]
  },
  {
   "cell_type": "code",
   "execution_count": 17,
   "metadata": {
    "colab": {
     "base_uri": "https://localhost:8080/",
     "height": 111
    },
    "id": "zVJnm_4TopLm",
    "outputId": "9c9dc0da-eab8-4637-95ef-db74ede01ae1"
   },
   "outputs": [
    {
     "data": {
      "text/html": [
       "<div>\n",
       "<style scoped>\n",
       "    .dataframe tbody tr th:only-of-type {\n",
       "        vertical-align: middle;\n",
       "    }\n",
       "\n",
       "    .dataframe tbody tr th {\n",
       "        vertical-align: top;\n",
       "    }\n",
       "\n",
       "    .dataframe thead th {\n",
       "        text-align: right;\n",
       "    }\n",
       "</style>\n",
       "<table border=\"1\" class=\"dataframe\">\n",
       "  <thead>\n",
       "    <tr style=\"text-align: right;\">\n",
       "      <th></th>\n",
       "      <th>user</th>\n",
       "      <th>mean_compound_score</th>\n",
       "    </tr>\n",
       "  </thead>\n",
       "  <tbody>\n",
       "    <tr>\n",
       "      <th>0</th>\n",
       "      <td>AOC</td>\n",
       "      <td>0.052586</td>\n",
       "    </tr>\n",
       "    <tr>\n",
       "      <th>1</th>\n",
       "      <td>KimKardashian</td>\n",
       "      <td>0.187066</td>\n",
       "    </tr>\n",
       "  </tbody>\n",
       "</table>\n",
       "</div>"
      ],
      "text/plain": [
       "            user  mean_compound_score\n",
       "0            AOC             0.052586\n",
       "1  KimKardashian             0.187066"
      ]
     },
     "execution_count": 17,
     "metadata": {
      "tags": []
     },
     "output_type": "execute_result"
    }
   ],
   "source": [
    "comp_score = df.groupby('user').agg({'compound_score': ['mean']})\n",
    "comp_score.columns = ['mean_compound_score']\n",
    "comp_score.reset_index()"
   ]
  },
  {
   "cell_type": "markdown",
   "metadata": {
    "id": "nZQ9_X6zO_qf"
   },
   "source": [
    "Kim Kardashian's average compound score is 0.0526 and Alexandria Ocasio-Cortez' average compound score is 0.1871."
   ]
  },
  {
   "cell_type": "code",
   "execution_count": null,
   "metadata": {
    "id": "g6CjlpQuqdv3"
   },
   "outputs": [],
   "source": []
  }
 ],
 "metadata": {
  "colab": {
   "name": "COMP8240 Assessment 02",
   "provenance": []
  },
  "kernelspec": {
   "display_name": "Python 3",
   "language": "python",
   "name": "python3"
  },
  "language_info": {
   "codemirror_mode": {
    "name": "ipython",
    "version": 3
   },
   "file_extension": ".py",
   "mimetype": "text/x-python",
   "name": "python",
   "nbconvert_exporter": "python",
   "pygments_lexer": "ipython3",
   "version": "3.7.3"
  }
 },
 "nbformat": 4,
 "nbformat_minor": 1
}
